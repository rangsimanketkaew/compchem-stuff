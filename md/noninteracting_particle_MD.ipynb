{
  "nbformat": 4,
  "nbformat_minor": 0,
  "metadata": {
    "colab": {
      "name": "noninteracting_particle_MD.ipynb",
      "provenance": []
    },
    "kernelspec": {
      "name": "python3",
      "display_name": "Python 3"
    }
  },
  "cells": [
    {
      "cell_type": "code",
      "metadata": {
        "id": "JMMqD95zQmRq"
      },
      "source": [
        "def get_initial_coordinates():\n",
        "  x_coord = [np.random.random()*box_width for i in range(n_particles)]\n",
        "  y_coord = [np.random.random()*box_width for i in range(n_particles)]\n",
        "  \n",
        "  return x_coord, y_coord"
      ],
      "execution_count": null,
      "outputs": []
    },
    {
      "cell_type": "code",
      "metadata": {
        "id": "_ejOpbfWSEwt"
      },
      "source": [
        "def get_initial_velocities():\n",
        "  x_vel = [2*(np.random.random()-0.5)*box_width for i in range(n_particles)]\n",
        "  y_vel = [2*(np.random.random()-0.5)*box_width for i in range(n_particles)]\n",
        "  \n",
        "  return x_vel, y_vel"
      ],
      "execution_count": null,
      "outputs": []
    },
    {
      "cell_type": "code",
      "metadata": {
        "id": "8VIHckwKSvAc"
      },
      "source": [
        "def take_step(x_coord, y_coord, x_vel, y_vel):\n",
        "  for i in range(n_particles):\n",
        "    x_coord[i] += x_vel[i]*dt\n",
        "    y_coord[i] += y_vel[i]*dt\n",
        "    \n",
        "    if abs(x_coord[i]) > box_width:\n",
        "      x_vel[i] = -x_vel[i]\n",
        "      x_coord[i] += x_vel[i]*dt\n",
        "    \n",
        "    if abs(y_coord[i]) > box_width:\n",
        "      y_vel[i] = -y_vel[i]\n",
        "      y_coord[i] += y_vel[i]*dt\n",
        "    \n",
        "  return x_coord, y_coord, x_vel, y_vel"
      ],
      "execution_count": null,
      "outputs": []
    },
    {
      "cell_type": "code",
      "metadata": {
        "id": "fNwIkKkNTaDX"
      },
      "source": [
        "def add_frame(xs,ys,i):\n",
        "  global trajectory\n",
        "  if i == 0:\n",
        "    trajectory = ''\n",
        "  trajectory += str(n_particles) + '\\ntitle\\n'\n",
        "  for x, y in zip(xs,ys):\n",
        "    trajectory += ' '.join(['Ar',str(x),str(y),'0.0\\n'])\n",
        "    "
      ],
      "execution_count": null,
      "outputs": []
    },
    {
      "cell_type": "code",
      "metadata": {
        "id": "madSLHmXGOO5"
      },
      "source": [
        "import numpy as np\n",
        "\n",
        "n_particles = 100\n",
        "box_width = 10\n",
        "n_steps = 5000\n",
        "dt = 0.001\n",
        "global trajectory\n",
        "\n",
        "x_coord, y_coord = get_initial_coordinates()\n",
        "\n",
        "x_vel, y_vel = get_initial_velocities()\n",
        "\n",
        "for i in range(n_steps):\n",
        "  x_coord, y_coord, x_vel, y_vel = take_step(x_coord, y_coord, x_vel, y_vel)\n",
        "  \n",
        "  if i%10 == 0:\n",
        "    add_frame(x_coord, y_coord,i)"
      ],
      "execution_count": null,
      "outputs": []
    },
    {
      "cell_type": "code",
      "metadata": {
        "id": "lA45pZozRkie"
      },
      "source": [
        "!pip install py3Dmol"
      ],
      "execution_count": null,
      "outputs": []
    },
    {
      "cell_type": "code",
      "metadata": {
        "id": "ELWnESw2TObR",
        "outputId": "4815688f-8548-4517-c8ee-7b503db872eb",
        "colab": {
          "base_uri": "https://localhost:8080/",
          "height": 514
        }
      },
      "source": [
        "import py3Dmol\n",
        "view = py3Dmol.view()\n",
        "view.addModelsAsFrames(trajectory,'xyz')\n",
        "view.animate({'loop': 'forward', 'reps': 1})\n",
        "view.setStyle({'sphere':{'radius': 0.5}})\n",
        "view.zoomTo()"
      ],
      "execution_count": null,
      "outputs": []
    }
  ]
}